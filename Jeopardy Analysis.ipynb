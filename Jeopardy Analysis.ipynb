{
 "cells": [
  {
   "cell_type": "markdown",
   "metadata": {},
   "source": [
    "# Jeopardy Game Analysis"
   ]
  },
  {
   "cell_type": "markdown",
   "metadata": {},
   "source": [
    "#### *Kim Kirk* <br> *July 16, 2020*"
   ]
  },
  {
   "cell_type": "markdown",
   "metadata": {},
   "source": [
    "## Synopsis"
   ]
  },
  {
   "cell_type": "markdown",
   "metadata": {},
   "source": [
    "A descriptive data analysis was performed on Jeopardy game data. 216,930 rows were imported, cleaned, and analyzed. Analysis of the difficulty level of specific topics in the game Jeopary by determining the average value of questions containing a given keyword, with the idea that identifying these high value questions can be used as a successful strategy to win the game."
   ]
  },
  {
   "cell_type": "markdown",
   "metadata": {},
   "source": [
    "### Data Processing"
   ]
  },
  {
   "cell_type": "markdown",
   "metadata": {},
   "source": [
    "Import required libraries and data set. Explore the data set."
   ]
  },
  {
   "cell_type": "code",
   "execution_count": 1,
   "metadata": {},
   "outputs": [
    {
     "name": "stdout",
     "output_type": "stream",
     "text": [
      "    Show Number    Air Date             Round  \\\n",
      "0          4680  2004-12-31         Jeopardy!   \n",
      "1          4680  2004-12-31         Jeopardy!   \n",
      "2          4680  2004-12-31         Jeopardy!   \n",
      "3          4680  2004-12-31         Jeopardy!   \n",
      "4          4680  2004-12-31         Jeopardy!   \n",
      "5          4680  2004-12-31         Jeopardy!   \n",
      "6          4680  2004-12-31         Jeopardy!   \n",
      "7          4680  2004-12-31         Jeopardy!   \n",
      "8          4680  2004-12-31         Jeopardy!   \n",
      "9          4680  2004-12-31         Jeopardy!   \n",
      "10         4680  2004-12-31         Jeopardy!   \n",
      "11         4680  2004-12-31         Jeopardy!   \n",
      "12         4680  2004-12-31         Jeopardy!   \n",
      "13         4680  2004-12-31         Jeopardy!   \n",
      "14         4680  2004-12-31         Jeopardy!   \n",
      "15         4680  2004-12-31         Jeopardy!   \n",
      "16         4680  2004-12-31         Jeopardy!   \n",
      "17         4680  2004-12-31         Jeopardy!   \n",
      "18         4680  2004-12-31         Jeopardy!   \n",
      "19         4680  2004-12-31         Jeopardy!   \n",
      "20         4680  2004-12-31         Jeopardy!   \n",
      "21         4680  2004-12-31         Jeopardy!   \n",
      "22         4680  2004-12-31         Jeopardy!   \n",
      "23         4680  2004-12-31         Jeopardy!   \n",
      "24         4680  2004-12-31         Jeopardy!   \n",
      "25         4680  2004-12-31         Jeopardy!   \n",
      "26         4680  2004-12-31         Jeopardy!   \n",
      "27         4680  2004-12-31         Jeopardy!   \n",
      "28         4680  2004-12-31         Jeopardy!   \n",
      "29         4680  2004-12-31  Double Jeopardy!   \n",
      "\n",
      "                           Category   Value  \\\n",
      "0                           HISTORY    $200   \n",
      "1   ESPN's TOP 10 ALL-TIME ATHLETES    $200   \n",
      "2       EVERYBODY TALKS ABOUT IT...    $200   \n",
      "3                  THE COMPANY LINE    $200   \n",
      "4               EPITAPHS & TRIBUTES    $200   \n",
      "5                    3-LETTER WORDS    $200   \n",
      "6                           HISTORY    $400   \n",
      "7   ESPN's TOP 10 ALL-TIME ATHLETES    $400   \n",
      "8       EVERYBODY TALKS ABOUT IT...    $400   \n",
      "9                  THE COMPANY LINE    $400   \n",
      "10              EPITAPHS & TRIBUTES    $400   \n",
      "11                   3-LETTER WORDS    $400   \n",
      "12                          HISTORY    $600   \n",
      "13  ESPN's TOP 10 ALL-TIME ATHLETES    $600   \n",
      "14      EVERYBODY TALKS ABOUT IT...    $600   \n",
      "15                 THE COMPANY LINE    $600   \n",
      "16              EPITAPHS & TRIBUTES    $600   \n",
      "17                   3-LETTER WORDS    $600   \n",
      "18                          HISTORY    $800   \n",
      "19  ESPN's TOP 10 ALL-TIME ATHLETES    $800   \n",
      "20      EVERYBODY TALKS ABOUT IT...    $800   \n",
      "21                 THE COMPANY LINE    $800   \n",
      "22              EPITAPHS & TRIBUTES  $2,000   \n",
      "23                   3-LETTER WORDS    $800   \n",
      "24                          HISTORY   $1000   \n",
      "25  ESPN's TOP 10 ALL-TIME ATHLETES   $1000   \n",
      "26                 THE COMPANY LINE   $1000   \n",
      "27              EPITAPHS & TRIBUTES   $1000   \n",
      "28                   3-LETTER WORDS   $1000   \n",
      "29       DR. SEUSS AT THE MULTIPLEX    $400   \n",
      "\n",
      "                                                                                                                                                                       Question  \\\n",
      "0                                                                              For the last 8 years of his life, Galileo was under house arrest for espousing this man's theory   \n",
      "1                                                                   No. 2: 1912 Olympian; football star at Carlisle Indian School; 6 MLB seasons with the Reds, Giants & Braves   \n",
      "2                                                                                      The city of Yuma in this state has a record average of 4,055 hours of sunshine each year   \n",
      "3                                                                                          In 1963, live on \"The Art Linkletter Show\", this company served its billionth burger   \n",
      "4                                                                      Signer of the Dec. of Indep., framer of the Constitution of Mass., second President of the United States   \n",
      "5                                                                                                 In the title of an Aesop fable, this insect shared billing with a grasshopper   \n",
      "6                                                                                                  Built in 312 B.C. to link Rome & the South of Italy, it's still in use today   \n",
      "7                                                                                                        No. 8: 30 steals for the Birmingham Barons; 2,306 steals for the Bulls   \n",
      "8                                                                 In the winter of 1971-72, a record 1,122 inches of snow fell at Rainier Paradise Ranger Station in this state   \n",
      "9                                                                            This housewares store was named for the packaging its merchandise came in & was first displayed on   \n",
      "10                                                                                                                                                             \"And away we go\"   \n",
      "11                                                                                                    Cows regurgitate this from the first stomach to the mouth & chew it again   \n",
      "12                                                                              In 1000 Rajaraja I of the Cholas battled to take this Indian Ocean island now known for its tea   \n",
      "13                                                       No. 1: Lettered in hoops, football & lacrosse at Syracuse & if you think he couldn't act, ask his 11 \"unclean\" buddies   \n",
      "14                                                          On June 28, 1994 the nat'l weather service began issuing this index that rates the intensity of the sun's radiation   \n",
      "15                                                                 This company's Accutron watch, introduced in 1960, had a guarantee of accuracy to within one minute a  month   \n",
      "16                                                                                         Outlaw: \"Murdered by a traitor and a coward whose name is not worthy to appear here\"   \n",
      "17                                                                                                         A small demon, or a mischievous child (who might be a little demon!)   \n",
      "18                                                                                     Karl led the first of these Marxist organizational efforts; the second one began in 1889   \n",
      "19                                                                          No. 10: FB/LB for Columbia U. in the 1920s; MVP for the Yankees in '27 & '36; \"Gibraltar in Cleats\"   \n",
      "20                                                                   Africa's lowest temperature was 11 degrees below zero in 1935 at Ifrane, just south of Fez in this country   \n",
      "21                                                                                                    Edward Teller & this man partnered in 1898 to sell high fashions to women   \n",
      "22                                                                                         1939 Oscar winner: \"...you are a credit to your craft, your race and to your family\"   \n",
      "23                                                                         In geologic time one of these, shorter than an eon, is divided into periods & subdivided into epochs   \n",
      "24                                                                                    This Asian political party was founded in 1885 with \"Indian National\" as part of its name   \n",
      "25                                                                      No. 5: Only center to lead the NBA in assists; track scholarship to Kansas U.; marathoner; volleyballer   \n",
      "26                                                                      The Kirschner brothers, Don & Bill, named this ski company for themselves & the second-highest mountain   \n",
      "27                                                                                                                       Revolutionary War hero: \"His spirit is in Vermont now\"   \n",
      "28                                                                                                                A single layer of paper, or to perform one's craft diligently   \n",
      "29  <a href=\"http://www.j-archive.com/media/2004-12-31_DJ_23.mp3\">Beyond ovoid abandonment, beyond ovoid betrayal... you won't believe the ending when he \"Hatches the Egg\"</a>   \n",
      "\n",
      "                                                  Answer  \n",
      "0                                             Copernicus  \n",
      "1                                             Jim Thorpe  \n",
      "2                                                Arizona  \n",
      "3                                             McDonald's  \n",
      "4                                             John Adams  \n",
      "5                                                the ant  \n",
      "6                                         the Appian Way  \n",
      "7                                         Michael Jordan  \n",
      "8                                             Washington  \n",
      "9                                         Crate & Barrel  \n",
      "10                                        Jackie Gleason  \n",
      "11                                               the cud  \n",
      "12                                 Ceylon (or Sri Lanka)  \n",
      "13                                             Jim Brown  \n",
      "14                                          the UV index  \n",
      "15                                                Bulova  \n",
      "16                                           Jesse James  \n",
      "17                                                   imp  \n",
      "18                                     the International  \n",
      "19                                          (Lou) Gehrig  \n",
      "20                                               Morocco  \n",
      "21                                         (Paul) Bonwit  \n",
      "22  Hattie McDaniel (for her role in Gone with the Wind)  \n",
      "23                                                   era  \n",
      "24                                    the Congress Party  \n",
      "25                                    (Wilt) Chamberlain  \n",
      "26                                                    K2  \n",
      "27                                           Ethan Allen  \n",
      "28                                                   ply  \n",
      "29                                                Horton  \n",
      "<class 'pandas.core.frame.DataFrame'>\n",
      "RangeIndex: 216930 entries, 0 to 216929\n",
      "Data columns (total 7 columns):\n",
      " #   Column       Non-Null Count   Dtype \n",
      "---  ------       --------------   ----- \n",
      " 0   Show Number  216930 non-null  int64 \n",
      " 1   Air Date     216930 non-null  object\n",
      " 2   Round        216930 non-null  object\n",
      " 3   Category     216930 non-null  object\n",
      " 4   Value        216930 non-null  object\n",
      " 5   Question     216930 non-null  object\n",
      " 6   Answer       216928 non-null  object\n",
      "dtypes: int64(1), object(6)\n",
      "memory usage: 11.6+ MB\n",
      "None\n",
      "        Show Number    Air Date             Round  \\\n",
      "0              4680  2004-12-31         Jeopardy!   \n",
      "1              4680  2004-12-31         Jeopardy!   \n",
      "2              4680  2004-12-31         Jeopardy!   \n",
      "3              4680  2004-12-31         Jeopardy!   \n",
      "4              4680  2004-12-31         Jeopardy!   \n",
      "...             ...         ...               ...   \n",
      "216925         4999  2006-05-11  Double Jeopardy!   \n",
      "216926         4999  2006-05-11  Double Jeopardy!   \n",
      "216927         4999  2006-05-11  Double Jeopardy!   \n",
      "216928         4999  2006-05-11  Double Jeopardy!   \n",
      "216929         4999  2006-05-11   Final Jeopardy!   \n",
      "\n",
      "                               Category  Value  \\\n",
      "0                               HISTORY   $200   \n",
      "1       ESPN's TOP 10 ALL-TIME ATHLETES   $200   \n",
      "2           EVERYBODY TALKS ABOUT IT...   $200   \n",
      "3                      THE COMPANY LINE   $200   \n",
      "4                   EPITAPHS & TRIBUTES   $200   \n",
      "...                                 ...    ...   \n",
      "216925                   RIDDLE ME THIS  $2000   \n",
      "216926                        \"T\" BIRDS  $2000   \n",
      "216927           AUTHORS IN THEIR YOUTH  $2000   \n",
      "216928                       QUOTATIONS  $2000   \n",
      "216929                   HISTORIC NAMES   None   \n",
      "\n",
      "                                                                                                                      Question  \\\n",
      "0                             For the last 8 years of his life, Galileo was under house arrest for espousing this man's theory   \n",
      "1                  No. 2: 1912 Olympian; football star at Carlisle Indian School; 6 MLB seasons with the Reds, Giants & Braves   \n",
      "2                                     The city of Yuma in this state has a record average of 4,055 hours of sunshine each year   \n",
      "3                                         In 1963, live on \"The Art Linkletter Show\", this company served its billionth burger   \n",
      "4                     Signer of the Dec. of Indep., framer of the Constitution of Mass., second President of the United States   \n",
      "...                                                                                                                        ...   \n",
      "216925                                              This Puccini opera turns on the solution to 3 riddles posed by the heroine   \n",
      "216926                 In North America this term is properly applied to only 4 species that are crested, including the tufted   \n",
      "216927               In Penny Lane, where this \"Hellraiser\" grew up, the barber shaves another customer--then flays him alive!   \n",
      "216928  From Ft. Sill, Okla. he made the plea, Arizona is my land, my home, my father's land, to which I now ask to... return\"   \n",
      "216929                 A silent movie title includes the last name of this 18th c. statesman & favorite of Catherine the Great   \n",
      "\n",
      "                                Answer  \n",
      "0                           Copernicus  \n",
      "1                           Jim Thorpe  \n",
      "2                              Arizona  \n",
      "3                           McDonald's  \n",
      "4                           John Adams  \n",
      "...                                ...  \n",
      "216925                        Turandot  \n",
      "216926                      a titmouse  \n",
      "216927                    Clive Barker  \n",
      "216928                        Geronimo  \n",
      "216929  Grigori Alexandrovich Potemkin  \n",
      "\n",
      "[216930 rows x 7 columns]\n",
      "0                           For the last 8 years of his life, Galileo was under house arrest for espousing this man's theory\n",
      "1                No. 2: 1912 Olympian; football star at Carlisle Indian School; 6 MLB seasons with the Reds, Giants & Braves\n",
      "2                                   The city of Yuma in this state has a record average of 4,055 hours of sunshine each year\n",
      "3                                       In 1963, live on \"The Art Linkletter Show\", this company served its billionth burger\n",
      "4                   Signer of the Dec. of Indep., framer of the Constitution of Mass., second President of the United States\n",
      "5                                              In the title of an Aesop fable, this insect shared billing with a grasshopper\n",
      "6                                               Built in 312 B.C. to link Rome & the South of Italy, it's still in use today\n",
      "7                                                     No. 8: 30 steals for the Birmingham Barons; 2,306 steals for the Bulls\n",
      "8              In the winter of 1971-72, a record 1,122 inches of snow fell at Rainier Paradise Ranger Station in this state\n",
      "9                         This housewares store was named for the packaging its merchandise came in & was first displayed on\n",
      "10                                                                                                          \"And away we go\"\n",
      "11                                                 Cows regurgitate this from the first stomach to the mouth & chew it again\n",
      "12                           In 1000 Rajaraja I of the Cholas battled to take this Indian Ocean island now known for its tea\n",
      "13    No. 1: Lettered in hoops, football & lacrosse at Syracuse & if you think he couldn't act, ask his 11 \"unclean\" buddies\n",
      "14       On June 28, 1994 the nat'l weather service began issuing this index that rates the intensity of the sun's radiation\n",
      "Name: Question, dtype: object\n"
     ]
    }
   ],
   "source": [
    "import pandas as pd\n",
    "pd.set_option('display.max_colwidth', None)\n",
    "\n",
    "jeopardy = pd.read_csv('jeopardy.csv', skipinitialspace=True)\n",
    "\n",
    "print(jeopardy.head(30))\n",
    "print(jeopardy.info())\n",
    "print(jeopardy)\n",
    "\n",
    "print(jeopardy['Question'].head(15))\n",
    "#renaming columns for ease of use moving forward\n",
    "jeopardy.rename(columns={'Show Number': 'show_number', 'Air Date': 'air_date', 'Round': 'round', 'Category': 'category', 'Value': 'value','Question': 'question', 'Answer': 'answer'}, inplace = True)"
   ]
  },
  {
   "cell_type": "markdown",
   "metadata": {},
   "source": [
    "Finding specific words in a Question in the data set. A check is performed to ensure the function is working properly. "
   ]
  },
  {
   "cell_type": "code",
   "execution_count": 2,
   "metadata": {},
   "outputs": [
    {
     "name": "stdout",
     "output_type": "stream",
     "text": [
      "      show_number    air_date             round           category value  \\\n",
      "0            4680  2004-12-31         Jeopardy!            HISTORY  $200   \n",
      "4419         1276  1990-03-05  Double Jeopardy!        THE PLANETS  $600   \n",
      "6239         5307  2007-10-09         Jeopardy!  OUT OF THIS WORLD  $400   \n",
      "\n",
      "                                                                                                   question  \\\n",
      "0          For the last 8 years of his life, Galileo was under house arrest for espousing this man's theory   \n",
      "4419  The 4 largest moons of this planet are called Galilean satellites after Galileo, who saw them in 1610   \n",
      "6239                                       Galileo was the first person to see the rings around this planet   \n",
      "\n",
      "          answer  \n",
      "0     Copernicus  \n",
      "4419     Jupiter  \n",
      "6239      Saturn  \n"
     ]
    }
   ],
   "source": [
    "   \n",
    "def find_these_words(a_list):\n",
    "    words_with_matches = []\n",
    "    for word in a_list:\n",
    "        word = word.lower()\n",
    "        for ind in jeopardy.index:\n",
    "            if word in jeopardy['question'][ind].lower():\n",
    "                found_row = jeopardy.iloc[ind]\n",
    "                words_with_matches.append(found_row)\n",
    "    matches_dataframe = pd.DataFrame(words_with_matches, columns=jeopardy.columns) \n",
    "    return matches_dataframe\n",
    "\n",
    "#check  \n",
    "data_frame_results = find_these_words(['Galileo', 'yuma'])\n",
    "print(data_frame_results.iloc[0:3])\n"
   ]
  },
  {
   "cell_type": "markdown",
   "metadata": {},
   "source": [
    "Add a new column calculated from the \"value\" column in the jeopardy data frame to float so aggregates can be performed on it. A check is performed to ensure the new column is populated correctly."
   ]
  },
  {
   "cell_type": "code",
   "execution_count": 3,
   "metadata": {
    "scrolled": true
   },
   "outputs": [
    {
     "name": "stdout",
     "output_type": "stream",
     "text": [
      "New column is populated\n"
     ]
    },
    {
     "data": {
      "text/plain": [
       "0    200.0\n",
       "1    200.0\n",
       "2    200.0\n",
       "3    200.0\n",
       "4    200.0\n",
       "Name: value_as_float, dtype: float64"
      ]
     },
     "execution_count": 3,
     "metadata": {},
     "output_type": "execute_result"
    }
   ],
   "source": [
    "import re\n",
    "\n",
    "jeopardy['value_as_float'] = jeopardy.value.apply(lambda x: #strip string of $ character \n",
    "                                                 float(0) if x == 'None' else float(re.sub('^\\$|\\,', '', x)))\n",
    "\n",
    "#check\n",
    "print('New column is populated')\n",
    "jeopardy['value_as_float'][0:5]                                                 \n",
    " \n"
   ]
  },
  {
   "cell_type": "markdown",
   "metadata": {},
   "source": [
    "### Exploratory Data Analysis"
   ]
  },
  {
   "cell_type": "markdown",
   "metadata": {},
   "source": [
    "Find difficulty level of specific topics, determined by average value of questions containing a given keyword. "
   ]
  },
  {
   "cell_type": "code",
   "execution_count": 4,
   "metadata": {},
   "outputs": [
    {
     "name": "stdout",
     "output_type": "stream",
     "text": [
      "Average value of questions with keyword \"King\" in them: \n",
      "771.88\n",
      "Average value of questions with keyword \"Yuma\" in them: \n",
      "860.0\n"
     ]
    }
   ],
   "source": [
    "\n",
    "rows_with_king = find_these_words(['King'])\n",
    "print('Average value of questions with keyword \"King\" in them: ')\n",
    "print(round(rows_with_king.value_as_float.mean(), 2))\n",
    "\n",
    "rows_with_yuma = find_these_words(['Yuma'])\n",
    "print('Average value of questions with keyword \"Yuma\" in them: ')\n",
    "print(round(rows_with_yuma.value_as_float.mean(), 2))\n"
   ]
  },
  {
   "cell_type": "markdown",
   "metadata": {},
   "source": [
    "Clearly, questions with the word \"Yuma\" in them have, on average, a greater value than questions with the word \"King\" in them."
   ]
  },
  {
   "cell_type": "markdown",
   "metadata": {},
   "source": [
    "Identify the count of unique answers to questions with a specific keyword by finding the number of unique counts for the answer values for the given question. Note that the game Jeopardy requires a correct answer to the given question, which is a full answer; this means that a partial answer to a question is not sufficient to be deemed a correct answer to the question. For example, if the full answer to the question given is 'Olympia, Washington' then 'Olympia' is not considered a correct answer because it is a partial answer. In this way, unique counts of values for the 'answer' column means the value must be an exact match and not a partial match. A check is done to ensure the function is working correctly."
   ]
  },
  {
   "cell_type": "code",
   "execution_count": 5,
   "metadata": {
    "scrolled": true
   },
   "outputs": [
    {
     "name": "stdout",
     "output_type": "stream",
     "text": [
      "Number of rows with keyword in \"question\" column is more than number of unique values found for the \"answer\" column for those questions\n",
      "\n",
      "\n",
      "True\n"
     ]
    }
   ],
   "source": [
    "import numpy\n",
    "\n",
    "def unique_answers(a_dataframe):\n",
    "    number_of_unique = a_dataframe.answer.nunique()\n",
    "    return number_of_unique\n",
    "\n",
    "for_rows_with_kings = unique_answers(rows_with_king)\n",
    "   \n",
    "#check\n",
    "print('Number of rows with keyword in \"question\" column \\\n",
    "is more than number of unique values found for the \"answer\" column for those questions')\n",
    "print(\"\\n\")\n",
    "print(len(rows_with_king) > for_rows_with_kings)\n"
   ]
  },
  {
   "cell_type": "markdown",
   "metadata": {},
   "source": [
    "### Conclusion"
   ]
  },
  {
   "cell_type": "markdown",
   "metadata": {},
   "source": [
    "Based on the analysis, there is a pattern of questions with a specific keyword that have a greater value on average than others. For example, questions with the word \"Yuma\" in them have, on average, a greater value than questions with the word \"King\" in them. Additional analysis should be performed for other keywords to identify the set of questions that have high value; these keywords can then be used a focal point for devising a strategy to win the game. "
   ]
  }
 ],
 "metadata": {
  "kernelspec": {
   "display_name": "Python 3",
   "language": "python",
   "name": "python3"
  },
  "language_info": {
   "codemirror_mode": {
    "name": "ipython",
    "version": 3
   },
   "file_extension": ".py",
   "mimetype": "text/x-python",
   "name": "python",
   "nbconvert_exporter": "python",
   "pygments_lexer": "ipython3",
   "version": "3.7.6"
  }
 },
 "nbformat": 4,
 "nbformat_minor": 4
}
